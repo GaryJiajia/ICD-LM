{
 "cells": [
  {
   "cell_type": "code",
   "execution_count": null,
   "metadata": {},
   "outputs": [],
   "source": [
    "from huggingface_hub import hf_hub_download"
   ]
  },
  {
   "cell_type": "code",
   "execution_count": 2,
   "metadata": {},
   "outputs": [],
   "source": [
    "hf_root=\"HuggingFaceM4/idefics-9b\"\n",
    "from transformers import IdeficsProcessor"
   ]
  },
  {
   "cell_type": "code",
   "execution_count": 18,
   "metadata": {},
   "outputs": [],
   "source": [
    "processor = IdeficsProcessor.from_pretrained(hf_root)"
   ]
  },
  {
   "cell_type": "code",
   "execution_count": 4,
   "metadata": {},
   "outputs": [
    {
     "name": "stderr",
     "output_type": "stream",
     "text": [
      "model-00018-of-00019.safetensors: 100%|██████████| 1.97G/1.97G [22:33<00:00, 1.46MB/s]\n",
      "model-00019-of-00019.safetensors: 100%|██████████| 705M/705M [03:23<00:00, 3.47MB/s]\n",
      "Downloading shards: 100%|██████████| 19/19 [26:01<00:00, 82.17s/it]\n",
      "Loading checkpoint shards: 100%|██████████| 19/19 [03:07<00:00,  9.84s/it]\n",
      "generation_config.json: 100%|██████████| 137/137 [00:00<00:00, 388kB/s]\n"
     ]
    }
   ],
   "source": [
    "from transformers import BatchFeature, IdeficsForVisionText2Text\n",
    "model = IdeficsForVisionText2Text.from_pretrained(hf_root)"
   ]
  }
 ],
 "metadata": {
  "kernelspec": {
   "display_name": "icdlm",
   "language": "python",
   "name": "python3"
  },
  "language_info": {
   "codemirror_mode": {
    "name": "ipython",
    "version": 3
   },
   "file_extension": ".py",
   "mimetype": "text/x-python",
   "name": "python",
   "nbconvert_exporter": "python",
   "pygments_lexer": "ipython3",
   "version": "3.9.16"
  }
 },
 "nbformat": 4,
 "nbformat_minor": 2
}
